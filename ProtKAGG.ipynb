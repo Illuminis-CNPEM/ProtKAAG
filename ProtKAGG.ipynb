{
 "cells": [
  {
   "cell_type": "code",
   "execution_count": 1,
   "id": "540732d4-77f9-43bc-91db-50aae18c0a96",
   "metadata": {},
   "outputs": [
    {
     "data": {
      "text/plain": [
       "'AUAAAAGGC'"
      ]
     },
     "execution_count": 1,
     "metadata": {},
     "output_type": "execute_result"
    }
   ],
   "source": [
    "def dna_5_3_para_rna_5_3(dna):\n",
    "    '''\n",
    "    Transforma uma string que representa uma fita de DNA em uma string que representa uma fita de RNA\n",
    "    \n",
    "    args:\n",
    "        dna = string dna simples fita 5'-3'\n",
    "    \n",
    "    return:\n",
    "        rna = uma string rna simples fitas 5'-3'\n",
    "    '''\n",
    "    #Coloca os caracteres em maiúsculo e troca timina(T) por uracila(U)\n",
    "    rna_1 = dna.replace('a', 'A')\n",
    "    rna_2 = rna_1.replace('t', 'T')\n",
    "    rna_3 = rna_2.replace('g', 'G')\n",
    "    rna_4 = rna_3.replace('c', 'C')\n",
    "    rna = rna_4.replace('T', 'U')\n",
    "    for c in rna: #Cria um laço para cada base da string 'rna'\n",
    "        if c not in ['A', 'G', 'C', 'U']: #Se a base não for A G C ou U\n",
    "            rna = rna.replace(c, '') #Apaga a base\n",
    "    return rna"
   ]
  },
  {
   "cell_type": "code",
   "execution_count": 2,
   "id": "e82c105a-b92f-487a-9751-da44d25e31c1",
   "metadata": {},
   "outputs": [],
   "source": [
    "def rna_to_codon(rna):\n",
    "    '''\n",
    "    Transforma uma string de RNA numa lista de aminácidos possíveis\n",
    "    \n",
    "    args:\n",
    "        rna = string de um RNA simples fita 5'-3'\n",
    "    \n",
    "    return:\n",
    "        aa_list = uma lista de aminoácidos\n",
    "    '''\n",
    "    codon_dict = {\n",
    "    'UUU': 'f', 'UUC': 'f', 'UUA': 'l', 'UUG': 'l',  # Fenilalanina (f), Leucina (l)\n",
    "    'UCU': 's', 'UCC': 's', 'UCA': 's', 'UCG': 's',  # Serina (s)\n",
    "    'UAU': 'y', 'UAC': 'y', 'UAA': '*', 'UAG': '*',  # Tirosina (y), Códons de terminação (*)\n",
    "    'UGU': 'c', 'UGC': 'c', 'UGA': '*', 'UGG': 'w',  # Cisteína (c), Triptofano (w)\n",
    "    'CUU': 'l', 'CUC': 'l', 'CUA': 'l', 'CUG': 'l',  # Leucina (l)\n",
    "    'CCU': 'p', 'CCC': 'p', 'CCA': 'p', 'CCG': 'p',  # Prolina (p)\n",
    "    'CAU': 'h', 'CAC': 'h', 'CAA': 'q', 'CAG': 'q',  # Histidina (h), Glutamina (q)\n",
    "    'CGU': 'r', 'CGC': 'r', 'CGA': 'r', 'CGG': 'r',  # Arginina (r)\n",
    "    'AUU': 'i', 'AUC': 'i', 'AUA': 'i', 'AUG': 'm',  # Isoleucina (i), Metionina (m, codon de início)\n",
    "    'ACU': 't', 'ACC': 't', 'ACA': 't', 'ACG': 't',  # Treonina (t)\n",
    "    'AAU': 'n', 'AAC': 'n', 'AAA': 'k', 'AAG': 'k',  # Asparagina (n), Lisina (k)\n",
    "    'AGU': 's', 'AGC': 's', 'AGA': 'r', 'AGG': 'r',  # Serina (s), Arginina (r)\n",
    "    'GUU': 'v', 'GUC': 'v', 'GUA': 'v', 'GUG': 'v',  # Valina (v)\n",
    "    'GCU': 'a', 'GCC': 'a', 'GCA': 'a', 'GCG': 'a',  # Alanina (a)\n",
    "    'GAU': 'd', 'GAC': 'd', 'GAA': 'e', 'GAG': 'e',  # Ácido aspártico (d), Ácido glutâmico (e)\n",
    "    'GGU': 'g', 'GGC': 'g', 'GGA': 'g', 'GGG': 'g'   # Glicina (g)\n",
    "} #Lista degenerada de códons, ou seja, trincas de bases que são traduzidas em seus respectivos aminoácidos\n",
    "\n",
    "\n",
    "\n",
    "    codons = [rna[i:i+3] for i in range(0, len(rna), 3)] #Divide a string de RNA de três em três numa lista\n",
    "    aa_list = []\n",
    "    for item in codons: #Para cada trinca\n",
    "        if item in codon_dict:#Se a trinca for uma chave do dicionário\n",
    "            aa_list.append(codon_dict[item])#Adiciona o valor da chave na lista de aminoácidos\n",
    "        else:\n",
    "            aa_list.append('-')#Se não estiver colocar \"-\"\n",
    "    return aa_list"
   ]
  },
  {
   "cell_type": "code",
   "execution_count": 3,
   "id": "bf97e53c-ec62-4282-8233-d2a7124b33e8",
   "metadata": {},
   "outputs": [],
   "source": [
    "#Tm = 81.5 + 0.41(%GC) - 675/N - % mismatch\n",
    "def dna_melt(dna):\n",
    "    dna_list = list(dna)\n",
    "    N = len(dna_list)\n",
    "    #print(dna_list)\n",
    "    #print(N)\n",
    "    GC = []\n",
    "    AT = []\n",
    "    for base in dna_list:\n",
    "        if base == 'G':\n",
    "            GC.append(1)\n",
    "        elif base == 'C':\n",
    "            GC.append(1)\n",
    "        else:\n",
    "            AT.append(1)\n",
    "    GCn = len(GC)\n",
    "    ATn = len(AT)\n",
    "    if N > 13:\n",
    "    #print(GCn)\n",
    "    #print(GC)\n",
    "        tm = 81.5 + (0.41*((GCn/N)*100))- 675/N\n",
    "    if N < 14:\n",
    "        tm = 4*GCn + 2*ATn\n",
    "    return tm"
   ]
  },
  {
   "cell_type": "code",
   "execution_count": 4,
   "id": "1a23950e-7b5e-498c-b2c3-adef54e5113b",
   "metadata": {},
   "outputs": [
    {
     "data": {
      "text/plain": [
       "'irlliqkpva-'"
      ]
     },
     "execution_count": 4,
     "metadata": {},
     "output_type": "execute_result"
    }
   ],
   "source": [
    "def protein_list_to_str(prot):\n",
    "    '''\n",
    "    Transforma uma lista de proteína numa string\n",
    "    \n",
    "    args:\n",
    "        prot = uma lista de aminoácidos\n",
    "        \n",
    "    return:\n",
    "        prot_2 = a lista de aminoácidos em string\n",
    "    '''\n",
    "    prot_2 = ''.join(prot)\n",
    "    return prot_2\n",
    "protein_list_to_str(rna_to_codon('AUACGCCUUUUGAUCCAAAAACCAGUCGCAUU'))"
   ]
  },
  {
   "cell_type": "code",
   "execution_count": 5,
   "id": "48c3ad97-ce55-4ae6-a7b2-05997eec3557",
   "metadata": {},
   "outputs": [
    {
     "data": {
      "text/plain": [
       "'https://www.ncbi.nlm.nih.gov/nuccore/D50811.1'"
      ]
     },
     "execution_count": 5,
     "metadata": {},
     "output_type": "execute_result"
    }
   ],
   "source": [
    "'CTGCAGAAGGAAAAGGAAATCAGCGAGGACGAAGAGCGCCGCGCCGGCGACGACGTGCAGAAGCTGACCG ACAAGTTCATCGGTGAGATCGAGAAGGCACTGGAAGCCAAAGAAGCGGACCTCATGGCTGTCTGAGGCCG GGCTGACGTCATGGAAAAGACCCGGAAGGATGTGTGCGTGCCACGCCACGTGCCATTATCATGGACGGTA ACAATCGCTGGGCGAAGAAGCGTCTTCTGCCCGGCGTCGCGCCACAAGGCCGGTGTCGATGCCGTCAGGG CGGTGATCGAGGTCTGCGCCGAGGCAGGGGTCGAGGTCCTCACCCTGTTCGCGTTCTCCAGCGAGAACTG GCAGCGTCCGGCGGACGAAGTCAGCGCGCTGATGGAGCTGTTTCTCGTGGCCCTGCGCCGCGAGGTGCGC AAGCTCGACGAGAACGGCATCCGCCTGCGCATCATCGGCGATCGCACGCGTTTCCATCCGGAGTTGCAGG CGGCCATGCGCGAAGCGGAAGCCGCCACTGCCGGCAATACCCGTTTCCTCCTCCAGGTCGCCGCCAACTA CGGCGGCCAGTGGGACATCGTCCAGGCCGCACAGCGCCTGGCGCGCGAGGTCCAGGGCGGGCACCTGGCG GCGGACGATATCTCCGCCGAGCTGCTCCAGGGCTGCCTGGTGACCGGCGACCAGCCGCTGCCCGACCTGT GCATCCGCACCGGCGGCGAGCATCGCATCAGCAATTTCCTTCTCTGGCAGCTGGCCTACGCCGAGCTGTA TTTCTCCGACCTGTTCTGGCCCGACTTCAAGCACGCGCGATGCGGGCTGCCCTGGCGGATTTCTCCAAGC GCCAGCGCCGCTTCGGCAAGACCAGCGAGCAAGTCGAGGCCGAGGCCCGTCCGTCATGCTGAAACAACGG ATCATCACGGCGCTGGTGCTTTTGCCCATCGCGCTGGGTGGTTTTTTCCTTCTCGAAGGGGCGTTCTTCG CCCTGTTCATCGGCGCGGTGGTGAGCCTGGGGGCCTGGGAATGGGCGCGCCTGGCCGGCTATGAACAACA GTTCGGCCGCGTTGCCTACGCGGCGACGGTCGCCGTGCTGATGGTCGCTCTCTACCATCTGCCGCAGCTT GCCGGAGCCGTGCTGCTGCTGGCGCTGGTCTGGTGGACGCTGGCCACCGTGCTGGTGCTCACCTACCCGG AAAGCGTCGGCTACTGGGGCGGCCGCTGGCGCCGCCTGGGCATGGGCCTGCTGATCCTGTTGCCGGCCTG GCAGGGGCTGGTCCTGCTCAAGCAAGTGGCCGCTGCCAATGGCCTGATCATCGCCGTGATGGTGCTGGTC TGGGGCGCGGATATCGGCGCCTACTTCTCCGGCAAGGCCTTCGGCAAGCGCAAGCTGGCGCCGCGGGTCA GCCCCGGCAAGAGCTGGGAAGGCGTTTACGGCGGCCTGGCGGCCAGCCTGGCGATCACCCTGGCGGTCGG CCTCTACCGCGGCTGGTCCCTCGGCGCGCTGCTCCTGGCCCTGCTCGGTGCGGCGCTGGTGGTGTTCGTC TCGATCGTCGGCGACCTCACCGAAAGCATGTTCAAGCGCCAGTCCGGAATCAAGGACAGCAGCAACCTGC TGCCCGGCCACGGTGGCGTGCTGGATCGCATCGACAGCCTGACGGCAGCCATCCCGGTGTTCGCGGCCCT GCTCTGGGCCGCCGGCTGGGGTGCGCCATGAGTCGACCGCAGCGGATCAGCGTGCTCGGCGCGACCGGCT CGATCGGCCTGAGCACCCTGGACGTCGTCCAGCGTCATCCCGATCGTTACGAAGCCTTCGCCCTGACTGG CTTCAGCCGCCTGGCCGAACTCGAG'\n",
    "'https://www.ncbi.nlm.nih.gov/nuccore/D50811.1'\n",
    "#Proteína em para teste de frames"
   ]
  },
  {
   "cell_type": "code",
   "execution_count": 31,
   "id": "7736326b-8e6e-4e9f-bc3b-b2a73cbd373f",
   "metadata": {},
   "outputs": [],
   "source": [
    "def frame1(rna):\n",
    "    '''\n",
    "    Gera o frame 1 de aminoácidos\n",
    "    \n",
    "    args:\n",
    "        rna = string de rna\n",
    "    return:\n",
    "        frame1str = frame 1 em string\n",
    "    '''\n",
    "    frame1 = rna_to_codon(rna) #chama a função rna to codon e gera a lista de aminoácidos\n",
    "    frame1str = protein_list_to_str(frame1) #transforma em string\n",
    "    return frame1str\n",
    "def frame2(rna):\n",
    "    '''\n",
    "    Gera o frame 2 de aminoácidos, pulando a primeira base nitrogenada antes de transformar em codon\n",
    "    \n",
    "    args:\n",
    "        rna = string de rna\n",
    "    return:\n",
    "        frame2str = frame 2 em string\n",
    "    '''\n",
    "    frame2 = rna_to_codon(rna[1:])#pega o rna e pula o primeiro item da lista e transforma em aa\n",
    "    frame2str = protein_list_to_str(frame2)\n",
    "    return frame2str\n",
    "def frame3(rna):\n",
    "    '''\n",
    "    Gera o frame 3 de aminoácidos, pulando a segunda base nitrogenada antes de transformar em codon\n",
    "    \n",
    "    args:\n",
    "        rna = string de rna\n",
    "    return:\n",
    "        frame3str = frame 3 em string\n",
    "    '''\n",
    "    frame3 = rna_to_codon(rna[2:])#pega o rna e pula o segundo item da lista e transforma em aa\n",
    "    frame3str = protein_list_to_str(frame3)\n",
    "    return frame3str"
   ]
  },
  {
   "cell_type": "code",
   "execution_count": 30,
   "id": "1b5ece52-91af-43bd-b7e8-7123b18f24ff",
   "metadata": {},
   "outputs": [],
   "source": [
    "import re\n",
    "def poss_prot(aastring):\n",
    "    '''\n",
    "    Transforma sequências de aminoácidos e em uma lista de possíveis proteínas\n",
    "    \n",
    "    args:\n",
    "        aastring = uma string de aminoácidos\n",
    "        \n",
    "    return:\n",
    "        prot_possíveis = Uma lista de strings com sequências de possíveis aminoácidos\n",
    "        ou seja, que começem com m e terminem no codon de terminação '*'.\n",
    "    '''\n",
    "    m_to_codon_f = r\"m(.*?)(?=\\*)\" #cria uma função em regex para achar todas os trechos entre m e *\n",
    "    prot_possíveis = re.findall(m_to_codon_f, aastring) #aplica essa função do regex na string de aa\n",
    "    prot_possíveis = ['m' + s for s in prot_possíveis] #coloca m n frente de todas prot pois o regex remove\n",
    "    return prot_possíveis"
   ]
  },
  {
   "cell_type": "code",
   "execution_count": 37,
   "id": "c4a468b9-90b7-4d7b-ada2-b55cf2c36d0a",
   "metadata": {},
   "outputs": [],
   "source": [
    "def encontra_minimo_string(lista):\n",
    "    #Retorna o valor minimo de uma lista de valores numéricos\n",
    "    valor = lista[0]\n",
    "    for n in lista:\n",
    "        if len(n) < len(valor):\n",
    "            valor = n\n",
    "    return valor"
   ]
  },
  {
   "cell_type": "code",
   "execution_count": 40,
   "id": "a18c1be9-ddf7-4353-91c0-69933a44de68",
   "metadata": {},
   "outputs": [
    {
     "data": {
      "text/plain": [
       "['lkqriitalvllpialggffllegaffalfigavvslgawewarlagyeqqfgrvayaatvavlmvalyhlpqlagavlllalvwwtla',\n",
       " 'tvlvltypesvgywggrwrrlgmgllill',\n",
       " 'lmvalyhlpqlagavlllalvwwtlatvlvlt',\n",
       " 'gostodefritasdourada']"
      ]
     },
     "execution_count": 40,
     "metadata": {},
     "output_type": "execute_result"
    }
   ],
   "source": [
    "def limpa_imposs(prots):\n",
    "    '''\n",
    "    Remove proteínas com menos de 20 aminoácidos.\n",
    "    \n",
    "    args:\n",
    "        prots: uma lista de proteínas\n",
    "        \n",
    "    return:\n",
    "        prots_certas: uma lista de proteínas maiores que 20 aminoácidos\n",
    "    '''\n",
    "    prots_certas = []\n",
    "    for i in prots:\n",
    "        if len(i) >= 20:\n",
    "            prots_certas.append(i)\n",
    "    return prots_certas"
   ]
  },
  {
   "cell_type": "code",
   "execution_count": 36,
   "id": "54eb506c-84cd-4472-a1b5-2c4657a991c7",
   "metadata": {},
   "outputs": [],
   "source": [
    "def best_prot(fr_1, fr_2, fr_3):\n",
    "    '''\n",
    "    Soma os três listas de proteínas em uma e coloca das maiores para as menores.\n",
    "    \n",
    "    args:\n",
    "        fr_1 = Uma lista de (strings) proteínas (geralmente do frame1)\n",
    "        fr_2 = Uma lista de (strings) proteínas (geralmente do frame2)\n",
    "        fr_3 = Uma lista de (strings) proteínas (geralmente do frame3)\n",
    "    return:\n",
    "        pprotTlist_ord = A lista de proteínas total em ordem decrescente(por tamanho de string)\n",
    "    '''\n",
    "    pprot1 = ', '.join(fr_1)\n",
    "    pprot2 = ', '.join(fr_2)\n",
    "    pprot3 = ', '.join(fr_3)\n",
    "    glue = ', '\n",
    "    pprotT = pprot1 + glue + pprot2 + glue + pprot3\n",
    "    pprotTlist = pprotT.split(glue)\n",
    "    pprotTlist_ord = []\n",
    "    while len(pprotTlist) != 0:\n",
    "        minimo = encontra_minimo_string(pprotTlist)\n",
    "        pprotTlist_ord.insert(0, minimo)\n",
    "        lista.remove(minimo)\n",
    "    return pprotTlist_ord      "
   ]
  },
  {
   "cell_type": "code",
   "execution_count": 24,
   "id": "7f4a6276-6a8b-4903-9938-5926122b7d95",
   "metadata": {},
   "outputs": [],
   "source": [
    "def ux_inter():\n",
    "    '''\n",
    "    Reúne todas funções e chama todas elas para dar os resultados ao usuário\n",
    "    \n",
    "    input:\n",
    "    Um DNA\n",
    "    \n",
    "    Return:\n",
    "    Possíveis proteínas\n",
    "    Os três frames de visualização\n",
    "    RNA equivalente\n",
    "    \n",
    "    '''\n",
    "    print(f\"Olá, Bem-vindo(a) ao protKAGG! Seu software de tradução e sintese protéica favorito! Qual sua sentença de DNA? Lembre se de colocar um 5´3´\")\n",
    "    dna_inicial = input()\n",
    "    print()\n",
    "    print(f\"Esse DNA representa uma região inteiramente codificante? Se sim, escreva 'sim', se não escreva 'não' para ativar visualização dos frames\")\n",
    "    test_frame = input()\n",
    "    print()\n",
    "    \n",
    "    rna_usuario = dna_5_3_para_rna_5_3(dna_inicial)\n",
    "    print('O RNA seria:')\n",
    "    print(rna_usuario)\n",
    "    print()\n",
    "    \n",
    "    if test_frame == 'não':\n",
    "        print('Seus frames seriam:')\n",
    "        frame1_u = frame1(rna_usuario) \n",
    "        print('Frame 1')\n",
    "        print(frame1_u)\n",
    "        print()\n",
    "        frame2_u = frame2(rna_usuario) \n",
    "        print('Frame 2')\n",
    "        print(frame2_u)\n",
    "        print()\n",
    "        frame3_u = frame3(rna_usuario)\n",
    "        print('Frame 3')\n",
    "        print(frame3_u)\n",
    "        print()\n",
    "        ppf1 = poss_prot(frame1_u)\n",
    "        ppf2 = poss_prot(frame2_u)\n",
    "        ppf3 = poss_prot(frame3_u)\n",
    "        possiveis_prot_frame1 = limpa_imposs(ppf1)\n",
    "        possiveis_prot_frame2 = limpa_imposs(ppf2)\n",
    "        possiveis_prot_frame3 = limpa_imposs(ppf3)\n",
    "        print('Possíveis proteínas no frame 1')\n",
    "        print(possiveis_prot_frame1)\n",
    "        print()\n",
    "        print('Possíveis proteínas no frame 2')\n",
    "        print(possiveis_prot_frame2)\n",
    "        print()\n",
    "        print('Possíveis proteínas no frame 3')\n",
    "        print(possiveis_prot_frame3)\n",
    "        print()\n",
    "    else:\n",
    "        print()\n",
    "        aa_usuario = rna_to_codon(rna_usuario)\n",
    "        aa_string = protein_list_to_str(aa_usuario)\n",
    "        print('Sua proteína seria:')\n",
    "        print(aa_string)\n",
    "    \n",
    "    "
   ]
  },
  {
   "cell_type": "code",
   "execution_count": 25,
   "id": "98d2ebc4-154e-4be4-880e-4efb231406cb",
   "metadata": {},
   "outputs": [
    {
     "name": "stdout",
     "output_type": "stream",
     "text": [
      "Olá, Bem-vindo(a) ao protKAGG! Seu software de tradução e sintese protéica favorito! Qual sua sentença de DNA? Lembre se de colocar um 5´3´\n"
     ]
    },
    {
     "name": "stdin",
     "output_type": "stream",
     "text": [
      " a\n"
     ]
    },
    {
     "name": "stdout",
     "output_type": "stream",
     "text": [
      "\n",
      "Esse DNA representa uma região inteiramente codificante? Se sim, escreva 'sim', se não escreva 'não' para ativar visualização dos frames\n"
     ]
    },
    {
     "name": "stdin",
     "output_type": "stream",
     "text": [
      " a\n"
     ]
    },
    {
     "name": "stdout",
     "output_type": "stream",
     "text": [
      "\n",
      "O RNA seria:\n",
      "A\n",
      "\n",
      "\n",
      "Sua proteína seria:\n",
      "-\n"
     ]
    }
   ],
   "source": [
    "ux_inter()"
   ]
  },
  {
   "cell_type": "code",
   "execution_count": 20,
   "id": "1265d048-9911-4825-bf0a-bac8f68dd22e",
   "metadata": {},
   "outputs": [
    {
     "data": {
      "text/plain": [
       "\"\\nimport requests\\nfrom xml.etree import ElementTree\\nres = requests.get('http://www.ebi.ac.uk/Tools/services/rest/fasta?wadl')\\ntree = ElementTree.fromstring(res.content)\\nroot = tree.getroot()\\nprint(ET.tostring(root, enconding='utf8').decode('utf8'))\\n\\n\""
      ]
     },
     "execution_count": 20,
     "metadata": {},
     "output_type": "execute_result"
    }
   ],
   "source": [
    "'''\n",
    "import requests\n",
    "from xml.etree import ElementTree\n",
    "res = requests.get('http://www.ebi.ac.uk/Tools/services/rest/fasta?wadl')\n",
    "tree = ElementTree.fromstring(res.content)\n",
    "root = tree.getroot()\n",
    "print(ET.tostring(root, enconding='utf8').decode('utf8'))\n",
    "\n",
    "'''"
   ]
  },
  {
   "cell_type": "code",
   "execution_count": 22,
   "id": "09db2ee9-3d5e-4687-b82b-f2155e6dcc6c",
   "metadata": {},
   "outputs": [],
   "source": [
    "#import fasta"
   ]
  },
  {
   "cell_type": "code",
   "execution_count": null,
   "id": "b6a21774-159d-47fb-a6e1-c585ffa075b1",
   "metadata": {},
   "outputs": [],
   "source": []
  }
 ],
 "metadata": {
  "kernelspec": {
   "display_name": "ilumpy",
   "language": "python",
   "name": "ilumpy"
  },
  "language_info": {
   "codemirror_mode": {
    "name": "ipython",
    "version": 3
   },
   "file_extension": ".py",
   "mimetype": "text/x-python",
   "name": "python",
   "nbconvert_exporter": "python",
   "pygments_lexer": "ipython3",
   "version": "3.10.8"
  }
 },
 "nbformat": 4,
 "nbformat_minor": 5
}
