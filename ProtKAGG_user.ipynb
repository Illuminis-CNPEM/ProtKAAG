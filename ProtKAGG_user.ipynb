{
 "cells": [
  {
   "cell_type": "markdown",
   "id": "6ee8e493-48f2-4ca7-b220-3c03b469dd08",
   "metadata": {},
   "source": [
    "<img src=\"PK_remove.png\" style=\"width:200px;height:200px\"/>\n",
    "\n",
    "<h1>Ilum Escola de Ciência</h1>\n",
    "<h3>Projeto Semestral - Prática em Ciência de Dados </h3>\n",
    "<h3>Prof: James Almeida </h3>\n",
    "<h3>Autores: Anelise Gonçalves, Gabriel Torquato, Gabriela Frajtag e Pedro Kramer</h3>"
   ]
  },
  {
   "cell_type": "code",
   "execution_count": 1,
   "id": "bf865189-88eb-4e00-a7f7-f300deb16de4",
   "metadata": {},
   "outputs": [],
   "source": [
    "from ProtKAGG_funcs import *"
   ]
  },
  {
   "cell_type": "code",
   "execution_count": 9,
   "id": "f285f5e1-7828-4d3e-8d53-e0166a165418",
   "metadata": {},
   "outputs": [
    {
     "name": "stdout",
     "output_type": "stream",
     "text": [
      "Olá, Seja bem-vindo(a) ao ProtKAGG, seu software de tradução e síntese proteica favorito!\n",
      "Para começar, forneça uma sequência de DNA de sua preferência\n",
      " *Deve ser apenas a sequência de nucleotídeos 5'3' (coloque apenas as letras)\n",
      "\n"
     ]
    },
    {
     "name": "stdin",
     "output_type": "stream",
     "text": [
      " tccagatccgttgtctgtgttgttcccttcctgcccccagaagtgttctcagagcccccaccatgcagtccgccctcagtttgctttccatcctgaccctgctccaaggtgtccaggctgatgtccacttggtggagtccgggggagacgtgagacagcccggcgggtctctgcgactctcctgtaaagtctccggattgcccagcgaccgctacttcatgcactgggtccgccaggctccagggaaggggctgcagtggtcgctagggtttatcacgatggcactaacgacgcctatgcagactccctgaagggccgattcaacatctcctgggatcagtccaacggcctcctgagtttgcagatgaacagcctgaaaaccgaggacatggccctttattactgtgttacagccgccctcgaccttgacttcttggattactggggccaaggcaccatggtcactgtctcctcagtctctagcaaagccccttcggtcttccccctggtgccctgctgtgacggcaccgactcctcagtagtcaccctgggctgcctcgtcgctgactatattcccgaccagtggtcgtgcgctggaactctggagacttggtcaagggcgtcacaactttaccgtcagtctgggacagccgaagcggactctacacgacgagcagccacgtcaccgtgagccaagacagctggcaatcccagaccttcacctgcaatgtagagcagacggccatcaaaacgaagatcaacacggaggtctattcagactgctccagggaaccgatcccaccgaccgtgaagttgttccattcgtcctgcgaccccgcggggactctcaggcgaccatcgagttgctgtgcgtcatcactggctactcgccagcgggcatcctggtagactggctggtggatgggcagaaggccgaaaacctcttcccctacacggctccccccaagagagagggcaacaggagtttctcctcccctagcgaggtcaacatcacccaggagcagtggctgaccggccagaccttcacctgccaggtcacccacctgaccgaccacaaaacctaccaagacagtgccaggaagtgtgcagattcagacccccgtggcatcaacgtctttctgaccccaccaagccccagggacctctacctctccaagtcccccaaactgtcctgtctggtcgtcgacctggtcaacaccaatggcttggaggtcacctggtcccgggagagtggtactccgctgagcagcgaatcctttgaggagcaaaagcacttcaacggcaccatgagcttcatacgacgcctcaggggccctgggaggacggtaccagaaggaccaaggcccgatcccgcctacttcctctacgccggctggccgtcaaccggtccgactgggaagttagcacttcctacacctgccaagtcgtccatgaggccttgccttcccgcagactgaacgcaaattccagcacccatccggtaactgaccgtgccttctgctcccacccaccccacccatttgttctccctgct\n"
     ]
    },
    {
     "name": "stdout",
     "output_type": "stream",
     "text": [
      "\n",
      "Esse DNA representa uma região inteiramente codificante?\n",
      " Se sim, escreva 'sim', se não escreva 'não' para ativar a visualização dos frames\n",
      "\n"
     ]
    },
    {
     "name": "stdin",
     "output_type": "stream",
     "text": [
      " não\n"
     ]
    },
    {
     "name": "stdout",
     "output_type": "stream",
     "text": [
      "\n",
      "A partir da sequência fornecida, o RNA seria:\n",
      "UCCAGAUCCGUUGUCUGUGUUGUUCCCUUCCUGCCCCCAGAAGUGUUCUCAGAGCCCCCACCAUGCAGUCCGCCCUCAGUUUGCUUUCCAUCCUGACCCUGCUCCAAGGUGUCCAGGCUGAUGUCCACUUGGUGGAGUCCGGGGGAGACGUGAGACAGCCCGGCGGGUCUCUGCGACUCUCCUGUAAAGUCUCCGGAUUGCCCAGCGACCGCUACUUCAUGCACUGGGUCCGCCAGGCUCCAGGGAAGGGGCUGCAGUGGUCGCUAGGGUUUAUCACGAUGGCACUAACGACGCCUAUGCAGACUCCCUGAAGGGCCGAUUCAACAUCUCCUGGGAUCAGUCCAACGGCCUCCUGAGUUUGCAGAUGAACAGCCUGAAAACCGAGGACAUGGCCCUUUAUUACUGUGUUACAGCCGCCCUCGACCUUGACUUCUUGGAUUACUGGGGCCAAGGCACCAUGGUCACUGUCUCCUCAGUCUCUAGCAAAGCCCCUUCGGUCUUCCCCCUGGUGCCCUGCUGUGACGGCACCGACUCCUCAGUAGUCACCCUGGGCUGCCUCGUCGCUGACUAUAUUCCCGACCAGUGGUCGUGCGCUGGAACUCUGGAGACUUGGUCAAGGGCGUCACAACUUUACCGUCAGUCUGGGACAGCCGAAGCGGACUCUACACGACGAGCAGCCACGUCACCGUGAGCCAAGACAGCUGGCAAUCCCAGACCUUCACCUGCAAUGUAGAGCAGACGGCCAUCAAAACGAAGAUCAACACGGAGGUCUAUUCAGACUGCUCCAGGGAACCGAUCCCACCGACCGUGAAGUUGUUCCAUUCGUCCUGCGACCCCGCGGGGACUCUCAGGCGACCAUCGAGUUGCUGUGCGUCAUCACUGGCUACUCGCCAGCGGGCAUCCUGGUAGACUGGCUGGUGGAUGGGCAGAAGGCCGAAAACCUCUUCCCCUACACGGCUCCCCCCAAGAGAGAGGGCAACAGGAGUUUCUCCUCCCCUAGCGAGGUCAACAUCACCCAGGAGCAGUGGCUGACCGGCCAGACCUUCACCUGCCAGGUCACCCACCUGACCGACCACAAAACCUACCAAGACAGUGCCAGGAAGUGUGCAGAUUCAGACCCCCGUGGCAUCAACGUCUUUCUGACCCCACCAAGCCCCAGGGACCUCUACCUCUCCAAGUCCCCCAAACUGUCCUGUCUGGUCGUCGACCUGGUCAACACCAAUGGCUUGGAGGUCACCUGGUCCCGGGAGAGUGGUACUCCGCUGAGCAGCGAAUCCUUUGAGGAGCAAAAGCACUUCAACGGCACCAUGAGCUUCAUACGACGCCUCAGGGGCCCUGGGAGGACGGUACCAGAAGGACCAAGGCCCGAUCCCGCCUACUUCCUCUACGCCGGCUGGCCGUCAACCGGUCCGACUGGGAAGUUAGCACUUCCUACACCUGCCAAGUCGUCCAUGAGGCCUUGCCUUCCCGCAGACUGAACGCAAAUUCCAGCACCCAUCCGGUAACUGACCGUGCCUUCUGCUCCCACCCACCCCACCCAUUUGUUCUCCCUGCU\n",
      "\n",
      "Seus frames seriam:\n",
      "Frame 1\n",
      "srsvvcvvpflppevfsepppcsppsvcfps*pcskvsrlmstwwspget*dspaglcdspvkspdcpatatsctgsarlqgrgcsgr*glsrwh*rrlcrlpegpiqhllgsvqrppefadeqpenrghgplllcysrprp*llgllgprhhghcllsl*qspfglppgall*rhrllsshpglprr*lysrpvvvrwnsgdlvkgvttlpsvwdsrsglyttsshvtvsqdswqsqtftcnveqtaiktkintevysdcsrepipptvklfhsscdpagtlrrpssccasslatrqrasw*tgwwmgrrpktssptrlppreratgvspplarstsprssg*parpsparspt*pttkptktvpgsvqiqtpvastsf*phqapgtstspsppncpvwsstwstpmawrspgpgrvvlr*aanplrskststap*asydasgalggryqkdqgpipptsstpagrqpvrlgs*hflhlpsrp*glafpqterkfqhpsgn*pclllpptppicspc-\n",
      "\n",
      "Frame 2\n",
      "pdplsvlfpscpqkcsqsphhavrpqfafhpdpaprcpg*cplggvrgrretarrvsatll*slriaqrpllhalgppgsregaavvarvyhdgtndayadslkgrfniswdqsngllslqmnslktedmalyycvtaaldldfldywgqgtmvtvssvsskapsvfplvpccdgtdssvvtlgclvadyipdqwscagtletwsrasqlyrqsgtaeadstrraatsp*aktagnprpspam*srrpskrrstrrsiqtapgnrshrp*scsirpatprglsgdhrvavrhhwllasghpgrlaggwaegrkplplhgspqergqqefllp*rgqhhpgavadrpdlhlpghppdrpqnlprqcqevcrfrppwhqrlsdptkpqgplplqvpqtvlsgrrpgqhqwlgghlvpgewysaeqril*gakalqrhhelhttpqgpwedgtrrtkarsrllplrrlavnrsdwevstsytcqvvhealpsrrlnanssthpvtdrafcshpphpfvlpa\n",
      "\n",
      "Frame 3\n",
      "qirclccslpaprsvlraptmqsalsllsiltllqgvqadvhlvesggdvrqpggslrlsckvsglpsdryfmhwvrqapgkglqwslgfitmalttpmqtp*radstspgisptas*vcr*ta*kprtwpfitvlqppstltswitgakapwslspqslakplrsspwcpavtaptpq*spwaassltifptsgralelwrlgqgrhnftvslgqpkrtlhdeqprhreprqlaipdlhlqcradghqnedqhgglfrllqgtdptdrevvpfvlrprgdsqatiellcvitgyspagilvdwlvdgqkaenlfpytappkregnrsfsspsevnitqeqwltgqtftcqvthltdhktyqdsarkcadsdprginvfltppsprdlylskspklsclvvdlvntnglevtwsresgtplssesfeeqkhfngtmsfirrlrgpgrtvpegprpdpayflyagwpstgptgklalptpakssmrpclpad*tqipapir*ltvpsapthpthlfsl-\n",
      "\n",
      "Possíveis proteínas no frame 1\n",
      "['mgrrpktssptrlppreratgvspplarstsprssg']\n",
      "\n",
      "Possíveis proteínas no frame 2\n",
      "['mnslktedmalyycvtaaldldfldywgqgtmvtvssvsskapsvfplvpccdgtdssvvtlgclvadyipdqwscagtletwsrasqlyrqsgtaeadstrraatsp']\n",
      "\n",
      "Possíveis proteínas no frame 3\n",
      "['mqsalsllsiltllqgvqadvhlvesggdvrqpggslrlsckvsglpsdryfmhwvrqapgkglqwslgfitmalttpmqtp', 'msfirrlrgpgrtvpegprpdpayflyagwpstgptgklalptpakssmrpclpad']\n",
      "\n",
      "Essa é a lista de possíveis proteínas da maior para a menor, saiba que é mais provável que sua proteína seja a maior\n",
      "Procure a mnslktedmalyycvtaaldldfldywgqgtmvtvssvsskapsvfplvpccdgtdssvvtlgclvadyipdqwscagtletwsrasqlyrqsgtaeadstrraatsp na ferramenta na seguinte ferramenta do URL: https://www.ebi.ac.uk/Tools/sss/fasta/\n",
      "Achou? (Responda ´sim´ ou ´não´)\n"
     ]
    },
    {
     "name": "stdin",
     "output_type": "stream",
     "text": [
      " sim\n"
     ]
    },
    {
     "name": "stdout",
     "output_type": "stream",
     "text": [
      "Obrigado por usar nossa ferramenta!\n"
     ]
    }
   ],
   "source": [
    "def user_interact():\n",
    "     '''\n",
    "    Reúne todas funções e chama todas elas para dar os resultados ao usuário\n",
    "    \n",
    "    input:\n",
    "    Um DNA\n",
    "    \n",
    "    Return:\n",
    "    Possíveis proteínas\n",
    "    Os três frames de visualização\n",
    "    RNA equivalente\n",
    "    \n",
    "    '''\n",
    "print(f\"Olá, Seja bem-vindo(a) ao ProtKAGG, seu software de tradução e síntese proteica favorito!\\nPara começar, forneça uma sequência de DNA de sua preferência\\n *Lembre-se de colocar um 5'3'\\n\")\n",
    "dna_inicial = input()\n",
    "print()\n",
    "print(f\"Esse DNA representa uma região inteiramente codificante?\\n Se sim, escreva 'sim', se não escreva 'não' para ativar a visualização dos frames\\n\")\n",
    "test_frame = input()\n",
    "print()\n",
    "    \n",
    "rna_usuario = dna_5_3_para_rna_5_3(dna_inicial)\n",
    "print('A partir da sequência fornecida, o RNA seria:')\n",
    "print(rna_usuario)\n",
    "print()\n",
    "    \n",
    "if test_frame == 'não':\n",
    "    print('Seus frames seriam:')\n",
    "    frame1_u = frame1(rna_usuario) \n",
    "    print('Frame 1')\n",
    "    print(frame1_u)\n",
    "    print()\n",
    "    frame2_u = frame2(rna_usuario) \n",
    "    print('Frame 2')\n",
    "    print(frame2_u)\n",
    "    print()\n",
    "    frame3_u = frame3(rna_usuario)\n",
    "    print('Frame 3')\n",
    "    print(frame3_u)\n",
    "    print()\n",
    "    ppf1 = poss_prot(frame1_u)\n",
    "    ppf2 = poss_prot(frame2_u)\n",
    "    ppf3 = poss_prot(frame3_u)\n",
    "    possiveis_prot_frame1 = limpa_imposs(ppf1)\n",
    "    possiveis_prot_frame2 = limpa_imposs(ppf2)\n",
    "    possiveis_prot_frame3 = limpa_imposs(ppf3)\n",
    "    print('Possíveis proteínas no frame 1')\n",
    "    print(possiveis_prot_frame1)\n",
    "    print()\n",
    "    print('Possíveis proteínas no frame 2')\n",
    "    print(possiveis_prot_frame2)\n",
    "    print()\n",
    "    print('Possíveis proteínas no frame 3')\n",
    "    print(possiveis_prot_frame3)\n",
    "    print()\n",
    "    print('Essa é a lista de possíveis proteínas da maior para a menor, saiba que é mais provável que sua proteína seja a maior')\n",
    "    lista_melhores_prot = best_prot(possiveis_prot_frame1, possiveis_prot_frame2, possiveis_prot_frame3)\n",
    "    print(f'Procure a {lista_melhores_prot[0]} na ferramenta na seguinte ferramenta do URL: https://www.ebi.ac.uk/Tools/sss/fasta/')\n",
    "    print('Achou? (Responda ´sim´ ou ´não´)')\n",
    "    procura_prot = input()\n",
    "    if procura_prot == 'não':\n",
    "        print(f'Procure a {lista_melhores_prot[1]} na ferramenta na seguinte ferramenta do URL: https://www.ebi.ac.uk/Tools/sss/fasta/')\n",
    "        print('Achou? (Responda ´sim´ ou ´não´)')\n",
    "        procura_prot_2 = input()\n",
    "        if procura_prot_2 == 'não':\n",
    "            prot_restantes = lista_melhores_prot[2:]\n",
    "            print(f'Tente as seguintes proteínas {prot_restantes} na ferramenta na seguinte ferramenta do URL: https://www.ebi.ac.uk/Tools/sss/fasta/')\n",
    "            print('Achou? (Responda ´sim´ ou ´não´)')\n",
    "            procura_prot_3 = input()\n",
    "            if procura_prot_3 == 'não':\n",
    "                print('Desculpa por não achar! Talvez não esteja no banco de dados')    \n",
    "            elif procura_prot_3 == 'sim':\n",
    "                print('Obrigado por usar nossa ferramenta!')\n",
    "        elif procura_prot_2 == 'sim':\n",
    "            print('Obrigado por usar nossa ferramenta!')\n",
    "    elif procura_prot == 'sim':\n",
    "        print('Obrigado por usar nossa ferramenta!')\n",
    "else:\n",
    "    print()\n",
    "    aa_usuario = rna_to_codon(rna_usuario)\n",
    "    aa_string = protein_list_to_str(aa_usuario)\n",
    "    print('A sequência de aminoácidos da sua proteína seria:')\n",
    "    print(aa_string)\n",
    "    print('Para descobrir qual sua proteína use a ferramenta do seguinte URL: https://www.ebi.ac.uk/Tools/sss/fasta/')\n",
    "    "
   ]
  },
  {
   "cell_type": "code",
   "execution_count": null,
   "id": "a12586bb-e013-429c-a506-5bb7c9a7e9a3",
   "metadata": {},
   "outputs": [],
   "source": []
  }
 ],
 "metadata": {
  "kernelspec": {
   "display_name": "ilumpy",
   "language": "python",
   "name": "ilumpy"
  },
  "language_info": {
   "codemirror_mode": {
    "name": "ipython",
    "version": 3
   },
   "file_extension": ".py",
   "mimetype": "text/x-python",
   "name": "python",
   "nbconvert_exporter": "python",
   "pygments_lexer": "ipython3",
   "version": "3.10.8"
  }
 },
 "nbformat": 4,
 "nbformat_minor": 5
}
