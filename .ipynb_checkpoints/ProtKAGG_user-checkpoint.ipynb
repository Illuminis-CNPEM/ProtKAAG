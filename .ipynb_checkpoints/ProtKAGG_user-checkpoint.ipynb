{
 "cells": [
  {
   "cell_type": "markdown",
   "id": "6ee8e493-48f2-4ca7-b220-3c03b469dd08",
   "metadata": {},
   "source": [
    "<img src=\"PK_remove.png\" style=\"width:200px;height:200px\"/>\n",
    "\n",
    "<h1>Ilum Escola de Ciência</h1>\n",
    "<h3>Projeto Semestral - Prática em Ciência de Dados </h3>\n",
    "<h3>Prof: James Almeida </h3>\n",
    "<h3>Autores: Anelise Gonçalves, Gabriel Torquato, Gabriela Frajtag e Pedro Kramer</h3>"
   ]
  },
  {
   "cell_type": "code",
   "execution_count": 5,
   "id": "bf865189-88eb-4e00-a7f7-f300deb16de4",
   "metadata": {},
   "outputs": [],
   "source": [
    "from ProtKAGG_funcs import *"
   ]
  },
  {
   "cell_type": "code",
   "execution_count": 9,
   "id": "f285f5e1-7828-4d3e-8d53-e0166a165418",
   "metadata": {},
   "outputs": [
    {
     "name": "stdout",
     "output_type": "stream",
     "text": [
      "Olá, Seja bem-vindo(a) ao ProtKAGG, seu software de tradução e síntese proteica favorito!\n",
      "Para começar, forneça uma sequência de DNA de sua preferência\n",
      " *Lembre-se de colocar um 5'3'\n",
      "\n"
     ]
    },
    {
     "name": "stdin",
     "output_type": "stream",
     "text": [
      " ACCAAGGATACTGATATCTTGGCGGCATTCCGAGTAACTCCTCAACCTGGAGTTCCGCCTGAAGAAGCAGGGGCCGCGGTAGCTGCCGAATCTTCTACGGGTACATGGACAACTGTGTGGACCGATGGACTTACCAGCCTTGATCGTTACAAAGGGCGATGCTACCACATCGAGCCCGTTCCTGGAGAAGCAGATCAATATATCTGTTATGTAGCTTACCCTTTAGACCTTTTTGAAGAAGGTTCTGTTACTAACATGTTTACTTCCATTGTAGGAAATGTATTTGGATTCAAAGCGCTGCGTGCTCTACGTCTGGAAGATCTGCGAATCCCTCCTGCTTATATTAAAACTTTCCAAGGCCCGCCTCATGGGATCCAAGTTGAGAGAGATAAATTGAACAAGTATGGTCGTCCCCTGTTGGGATGTACTATTAAACCTAAATTGGGGTTATCTGCTAAAAACTATGGTAGAGCAGTTTATGAATGTCTTCGCGGTGGACTTGATTTTACGTCAT\n"
     ]
    },
    {
     "name": "stdout",
     "output_type": "stream",
     "text": [
      "\n",
      "Esse DNA representa uma região inteiramente codificante?\n",
      " Se sim, escreva 'sim', se não escreva 'não' para ativar a visualização dos frames\n",
      "\n"
     ]
    },
    {
     "name": "stdin",
     "output_type": "stream",
     "text": [
      " sim\n"
     ]
    },
    {
     "name": "stdout",
     "output_type": "stream",
     "text": [
      "\n",
      "A partir da sequência fornecida, o RNA seria:\n",
      "ACCAAGGAUACUGAUAUCUUGGCGGCAUUCCGAGUAACUCCUCAACCUGGAGUUCCGCCUGAAGAAGCAGGGGCCGCGGUAGCUGCCGAAUCUUCUACGGGUACAUGGACAACUGUGUGGACCGAUGGACUUACCAGCCUUGAUCGUUACAAAGGGCGAUGCUACCACAUCGAGCCCGUUCCUGGAGAAGCAGAUCAAUAUAUCUGUUAUGUAGCUUACCCUUUAGACCUUUUUGAAGAAGGUUCUGUUACUAACAUGUUUACUUCCAUUGUAGGAAAUGUAUUUGGAUUCAAAGCGCUGCGUGCUCUACGUCUGGAAGAUCUGCGAAUCCCUCCUGCUUAUAUUAAAACUUUCCAAGGCCCGCCUCAUGGGAUCCAAGUUGAGAGAGAUAAAUUGAACAAGUAUGGUCGUCCCCUGUUGGGAUGUACUAUUAAACCUAAAUUGGGGUUAUCUGCUAAAAACUAUGGUAGAGCAGUUUAUGAAUGUCUUCGCGGUGGACUUGAUUUUACGUCAU\n",
      "\n",
      "\n",
      "Sua proteína seria:\n",
      "tkdtdilaafrvtpqpgvppeeagaavaaesstgtwttvwtdgltsldrykgrcyhiepvpgeadqyicyvaypldlfeegsvtnmftsivgnvfgfkalralrledlrippayiktfqgpphgiqverdklnkygrpllgctikpklglsaknygravyeclrggldfts-\n"
     ]
    }
   ],
   "source": [
    "def user_interact():\n",
    "     '''\n",
    "    Reúne todas funções e chama todas elas para dar os resultados ao usuário\n",
    "    \n",
    "    input:\n",
    "    Um DNA\n",
    "    \n",
    "    Return:\n",
    "    Possíveis proteínas\n",
    "    Os três frames de visualização\n",
    "    RNA equivalente\n",
    "    \n",
    "    '''\n",
    "print(f\"Olá, Seja bem-vindo(a) ao ProtKAGG, seu software de tradução e síntese proteica favorito!\\nPara começar, forneça uma sequência de DNA de sua preferência\\n *Lembre-se de colocar um 5'3'\\n\")\n",
    "dna_inicial = input()\n",
    "print()\n",
    "print(f\"Esse DNA representa uma região inteiramente codificante?\\n Se sim, escreva 'sim', se não escreva 'não' para ativar a visualização dos frames\\n\")\n",
    "test_frame = input()\n",
    "print()\n",
    "    \n",
    "rna_usuario = dna_5_3_para_rna_5_3(dna_inicial)\n",
    "print('A partir da sequência fornecida, o RNA seria:')\n",
    "print(rna_usuario)\n",
    "print()\n",
    "    \n",
    "if test_frame == 'não':\n",
    "    print('Seus frames seriam:')\n",
    "    frame1_u = frame1(rna_usuario) \n",
    "    print('Frame 1')\n",
    "    print(frame1_u)\n",
    "    print()\n",
    "    frame2_u = frame2(rna_usuario) \n",
    "    print('Frame 2')\n",
    "    print(frame2_u)\n",
    "    print()\n",
    "    frame3_u = frame3(rna_usuario)\n",
    "    print('Frame 3')\n",
    "    print(frame3_u)\n",
    "    print()\n",
    "    ppf1 = poss_prot(frame1_u)\n",
    "    ppf2 = poss_prot(frame2_u)\n",
    "    ppf3 = poss_prot(frame3_u)\n",
    "    possiveis_prot_frame1 = limpa_imposs(ppf1)\n",
    "    possiveis_prot_frame2 = limpa_imposs(ppf2)\n",
    "    possiveis_prot_frame3 = limpa_imposs(ppf3)\n",
    "    print('Possíveis proteínas no frame 1')\n",
    "    print(possiveis_prot_frame1)\n",
    "    print()\n",
    "    print('Possíveis proteínas no frame 2')\n",
    "    print(possiveis_prot_frame2)\n",
    "    print()\n",
    "    print('Possíveis proteínas no frame 3')\n",
    "    print(possiveis_prot_frame3)\n",
    "    print()\n",
    "else:\n",
    "    print()\n",
    "    aa_usuario = rna_to_codon(rna_usuario)\n",
    "    aa_string = protein_list_to_str(aa_usuario)\n",
    "    print('Sua proteína seria:')\n",
    "    print(aa_string)"
   ]
  },
  {
   "cell_type": "code",
   "execution_count": null,
   "id": "be4faf01-80b3-4123-a636-098f95ab072e",
   "metadata": {},
   "outputs": [],
   "source": []
  }
 ],
 "metadata": {
  "kernelspec": {
   "display_name": "ilumpy",
   "language": "python",
   "name": "ilumpy"
  },
  "language_info": {
   "codemirror_mode": {
    "name": "ipython",
    "version": 3
   },
   "file_extension": ".py",
   "mimetype": "text/x-python",
   "name": "python",
   "nbconvert_exporter": "python",
   "pygments_lexer": "ipython3",
   "version": "3.10.8"
  }
 },
 "nbformat": 4,
 "nbformat_minor": 5
}
